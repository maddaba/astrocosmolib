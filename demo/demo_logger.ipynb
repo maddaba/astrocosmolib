{
 "cells": [
  {
   "cell_type": "code",
   "execution_count": 4,
   "metadata": {},
   "outputs": [],
   "source": [
    "#import pyACC\n",
    "import sys\n",
    "sys.path.append(\"../\") #nel pattern delle librerie che cerca python c'è anche ../\n",
    " "
   ]
  },
  {
   "cell_type": "code",
   "execution_count": 5,
   "metadata": {},
   "outputs": [],
   "source": [
    "#importo logger\n",
    "from pyACC.helpers import Logger\n"
   ]
  },
  {
   "cell_type": "code",
   "execution_count": 8,
   "metadata": {},
   "outputs": [],
   "source": [
    "#init.py è il file che fa capire a python che quell'oggetto è pacchetto importabile, può essere vuoto o avere istruzioni, in questo caso ha istru: dice di importare logger e non fare from pyACC.helpers.Logger ovvero salto di uno\n",
    "#inizializzo\n",
    "logger=Logger(\"maddaba\")"
   ]
  },
  {
   "cell_type": "code",
   "execution_count": 9,
   "metadata": {},
   "outputs": [
    {
     "name": "stdout",
     "output_type": "stream",
     "text": [
      "2025-03-05 10:04:30.751872 :: \u001b[1m\u001b[35mmaddaba\u001b[0m :: \u001b[32mINFO\u001b[0m :: ciao mondo\n"
     ]
    }
   ],
   "source": [
    "logger(\"ciao mondo\")"
   ]
  },
  {
   "cell_type": "code",
   "execution_count": 10,
   "metadata": {},
   "outputs": [
    {
     "name": "stdout",
     "output_type": "stream",
     "text": [
      "2025-03-05 10:05:07.696481 :: \u001b[1m\u001b[35mmaddaba\u001b[0m :: \u001b[33mWARNING\u001b[0m :: this is a warning\n"
     ]
    }
   ],
   "source": [
    "logger.warning(\"this is a warning\")"
   ]
  },
  {
   "cell_type": "code",
   "execution_count": 11,
   "metadata": {},
   "outputs": [
    {
     "name": "stdout",
     "output_type": "stream",
     "text": [
      "2025-03-05 10:05:09.432953 :: \u001b[1m\u001b[35mmaddaba\u001b[0m :: \u001b[31mERROR\u001b[0m :: this is an error\n"
     ]
    }
   ],
   "source": [
    "logger.error(\"this is an error\")"
   ]
  }
 ],
 "metadata": {
  "kernelspec": {
   "display_name": "acc-env",
   "language": "python",
   "name": "python3"
  },
  "language_info": {
   "codemirror_mode": {
    "name": "ipython",
    "version": 3
   },
   "file_extension": ".py",
   "mimetype": "text/x-python",
   "name": "python",
   "nbconvert_exporter": "python",
   "pygments_lexer": "ipython3",
   "version": "3.12.9"
  }
 },
 "nbformat": 4,
 "nbformat_minor": 2
}
